{
 "cells": [
  {
   "cell_type": "markdown",
   "metadata": {},
   "source": [
    "Regression Training and Testing - Practical Machine Learning Tutorial with Python p.5\n",
    "========\n",
    "\n",
    "Original video on Sentdex's Youtube Channel: https://www.youtube.com/watch?v=QLVMqwpOLPk\n",
    "\n",
    "Support his awesome content: https://www.pythonprogramming.net/\n"
   ]
  },
  {
   "cell_type": "code",
   "execution_count": 32,
   "metadata": {},
   "outputs": [],
   "source": [
    "import pandas as pd\n",
    "import quandl\n",
    "import math \n",
    "import numpy as np\n",
    "from sklearn import preprocessing, model_selection, svm \n",
    "from sklearn.linear_model import LinearRegression\n",
    "\n",
    "#New imports for this lesson: \n",
    "import datetime\n",
    "import matplotlib.pyplot as plt\n",
    "from matplotlib import style"
   ]
  },
  {
   "cell_type": "markdown",
   "metadata": {},
   "source": [
    "Code from last time, plus some edits he makes right away. Follow along in the video, and I'll update to the final code."
   ]
  },
  {
   "cell_type": "code",
   "execution_count": 36,
   "metadata": {},
   "outputs": [],
   "source": [
    "df = quandl.get('WIKI/GOOGL')\n",
    "df = df[['Adj. Open','Adj. High','Adj. Low','Adj. Close','Adj. Volume',]]\n",
    "df['HL_PCT'] = (df['Adj. High']-df['Adj. Close'])/df['Adj. Close'] * 100\n",
    "df['PCT_change'] = (df['Adj. Close']-df['Adj. Open'])/df['Adj. Open'] * 100\n",
    "df = df[['Adj. Close','HL_PCT','PCT_change','Adj. Volume']]\n",
    "forecast_col = 'Adj. Close'\n",
    "df.fillna(-99999, inplace=True)\n",
    "forecast_out = int(math.ceil(0.01*len(df)))\n",
    "df['label'] = df[forecast_col].shift(-forecast_out)"
   ]
  },
  {
   "cell_type": "markdown",
   "metadata": {},
   "source": [
    "The majority of the updates are here: "
   ]
  },
  {
   "cell_type": "code",
   "execution_count": 37,
   "metadata": {},
   "outputs": [],
   "source": [
    "X = np.array(df.drop(['label'],1))\n",
    "\n",
    "# He adds these lines, and then realizes that he needs to scale them before he creates X and X_lately\n",
    "X = preprocessing.scale(X)\n",
    "X = X[:-forecast_out]\n",
    "X_lately = X[-forecast_out:]\n",
    "\n",
    "df.dropna(inplace=True)\n",
    "#He has this next line twice in the video. He ends up noticing it in pt. 6, and deletes the second one. \n",
    "y = np.array(df['label'])\n",
    "\n",
    "X_train, X_test, y_train, y_test = model_selection.train_test_split(X, y, test_size=0.2)\n",
    "clf = LinearRegression(n_jobs = 0)\n",
    "clf.fit(X_train, y_train)\n",
    "accuracy = clf.score(X_test, y_test)\n",
    "# Uncomment the next line, if you want to see the accuracy printed out...\n",
    "#print(accuracy)"
   ]
  },
  {
   "cell_type": "markdown",
   "metadata": {},
   "source": [
    "Start making our predictions. Note that he initially types \"confidence\" instead of \"accuracy\""
   ]
  },
  {
   "cell_type": "code",
   "execution_count": 38,
   "metadata": {},
   "outputs": [
    {
     "name": "stdout",
     "output_type": "stream",
     "text": [
      "[1076.19079982 1090.74288447 1104.61885455 1099.20765827 1092.75238453\n",
      " 1090.12520206 1088.47493689 1085.43151653 1079.3541202  1075.01375707\n",
      " 1072.64921068 1092.33054304 1110.71894744 1115.07690235 1129.93472678\n",
      " 1133.9344812  1132.50978872 1130.03722766 1131.79378623 1150.34500277\n",
      " 1149.58691835 1159.33614786 1155.95065241 1163.71326338 1184.18348906\n",
      " 1196.40005825 1190.79480974 1202.58686046 1208.0784093  1206.36443806\n",
      " 1197.13159926 1202.53997641 1201.31356882 1137.06380364 1084.53348175] 0.9783776898796447 35\n"
     ]
    }
   ],
   "source": [
    "forecast_set = clf.predict(X_lately)\n",
    "print(forecast_set, accuracy, forecast_out)"
   ]
  },
  {
   "cell_type": "markdown",
   "metadata": {},
   "source": [
    "Let's plot the data to see what it looks like. Note that I put the style declaration here instead of at the top. "
   ]
  },
  {
   "cell_type": "code",
   "execution_count": 39,
   "metadata": {},
   "outputs": [],
   "source": [
    "style.use('ggplot')"
   ]
  },
  {
   "cell_type": "markdown",
   "metadata": {},
   "source": [
    "We fill the Forecast column initially with the NaN from numpy."
   ]
  },
  {
   "cell_type": "code",
   "execution_count": 40,
   "metadata": {},
   "outputs": [],
   "source": [
    "df['Forecast'] = np.nan"
   ]
  },
  {
   "cell_type": "markdown",
   "metadata": {},
   "source": [
    "We find out what the last date was, and then find the next day. "
   ]
  },
  {
   "cell_type": "code",
   "execution_count": 41,
   "metadata": {},
   "outputs": [],
   "source": [
    "last_date = df.iloc[-1].name\n",
    "last_unix = last_date.timestamp()\n",
    "one_day = 86400\n",
    "next_unix = last_unix + one_day"
   ]
  },
  {
   "cell_type": "markdown",
   "metadata": {},
   "source": [
    "For loop to go through each element of the forecast set. Iterating through the forecast set, taking each forecast and day, and setting those as the values in the dataframe, making the future features NaN. He goes through this pretty quickly, so you might need to look it over. "
   ]
  },
  {
   "cell_type": "code",
   "execution_count": 42,
   "metadata": {},
   "outputs": [],
   "source": [
    "for i in forecast_set:\n",
    "    next_date = datetime.datetime.fromtimestamp(next_unix)\n",
    "    next_unix += one_day\n",
    "    df.loc[next_date] = [np.nan for _ in range(len(df.columns)-1)]+[i]"
   ]
  },
  {
   "cell_type": "markdown",
   "metadata": {},
   "source": [
    "Plotting the data. We add the 'Adj. Close'and the 'Forecast' series to the plot. Set up the legends, and then show. "
   ]
  },
  {
   "cell_type": "code",
   "execution_count": 43,
   "metadata": {},
   "outputs": [
    {
     "data": {
      "image/png": "[encoded data removed]",
      "text/plain": [
       "<Figure size 432x288 with 1 Axes>"
      ]
     },
     "metadata": {},
     "output_type": "display_data"
    }
   ],
   "source": [
    "df['Adj. Close'].plot()\n",
    "df['Forecast'].plot()\n",
    "plt.legend(loc=4)\n",
    "plt.xlabel('Data')\n",
    "plt.ylabel('Price')\n",
    "plt.show()"
   ]
  },
  {
   "cell_type": "markdown",
   "metadata": {},
   "source": [
    "He talks for a few minutes at the end of the video about the for loop above. "
   ]
  },
  {
   "cell_type": "markdown",
   "metadata": {},
   "source": [
    "That's it for this lesson!\n",
    "----\n",
    "On to the next video: https://www.youtube.com/watch?v=za5s7RB_VLw"
   ]
  }
 ],
 "metadata": {
  "kernelspec": {
   "display_name": "Python 3",
   "language": "python",
   "name": "python3"
  },
  "language_info": {
   "codemirror_mode": {
    "name": "ipython",
    "version": 3
   },
   "file_extension": ".py",
   "mimetype": "text/x-python",
   "name": "python",
   "nbconvert_exporter": "python",
   "pygments_lexer": "ipython3",
   "version": "3.6.6"
  }
 },
 "nbformat": 4,
 "nbformat_minor": 2
}
